{
 "cells": [
  {
   "cell_type": "code",
   "execution_count": 66,
   "metadata": {
    "colab": {},
    "colab_type": "code",
    "executionInfo": {
     "elapsed": 311,
     "status": "ok",
     "timestamp": 1595711966389,
     "user": {
      "displayName": "Jagadeesh Maroju",
      "photoUrl": "https://lh3.googleusercontent.com/a-/AOh14GjesCbl2sra6-ECz8-36_J-oul_b5yOksjf1uWoFQ=s64",
      "userId": "10251224050936812858"
     },
     "user_tz": 300
    },
    "id": "oigd1Q_LuVec"
   },
   "outputs": [],
   "source": [
    "import pandas as pd # data processing, CSV file I/O (e.g. pd.read_csv)\n",
    "from keras.preprocessing.text import Tokenizer\n",
    "from keras.preprocessing.sequence import pad_sequences\n",
    "from keras.models import Sequential\n",
    "from keras.layers import Dense, Embedding, LSTM, SpatialDropout1D, Dropout, Conv1D, GlobalMaxPooling1D\n",
    "from matplotlib import pyplot\n",
    "from sklearn.model_selection import train_test_split\n",
    "from keras.utils.np_utils import to_categorical\n",
    "import re\n",
    "from sklearn.preprocessing import LabelEncoder\n",
    "from keras.callbacks import TensorBoard\n",
    "from time import time\n",
    "import matplotlib.pyplot as plt"
   ]
  },
  {
   "cell_type": "code",
   "execution_count": 68,
   "metadata": {
    "colab": {
     "base_uri": "https://localhost:8080/",
     "height": 286
    },
    "colab_type": "code",
    "executionInfo": {
     "elapsed": 832,
     "status": "ok",
     "timestamp": 1595709991378,
     "user": {
      "displayName": "Jagadeesh Maroju",
      "photoUrl": "https://lh3.googleusercontent.com/a-/AOh14GjesCbl2sra6-ECz8-36_J-oul_b5yOksjf1uWoFQ=s64",
      "userId": "10251224050936812858"
     },
     "user_tz": 300
    },
    "id": "6DIn7fYIuZ5N",
    "outputId": "bfac2002-8dbc-44d5-e251-4a5ef6ac610b"
   },
   "outputs": [
    {
     "name": "stdout",
     "output_type": "stream",
     "text": [
      "(156060, 4)\n",
      "(66292, 3)\n"
     ]
    },
    {
     "data": {
      "text/plain": [
       "<bound method NDFrame.head of        PhraseId  SentenceId                                             Phrase\n",
       "0        156061        8545  An intermittently pleasing but mostly routine ...\n",
       "1        156062        8545  An intermittently pleasing but mostly routine ...\n",
       "2        156063        8545                                                 An\n",
       "3        156064        8545  intermittently pleasing but mostly routine effort\n",
       "4        156065        8545         intermittently pleasing but mostly routine\n",
       "...         ...         ...                                                ...\n",
       "66287    222348       11855             A long-winded , predictable scenario .\n",
       "66288    222349       11855               A long-winded , predictable scenario\n",
       "66289    222350       11855                                    A long-winded ,\n",
       "66290    222351       11855                                      A long-winded\n",
       "66291    222352       11855                               predictable scenario\n",
       "\n",
       "[66292 rows x 3 columns]>"
      ]
     },
     "execution_count": 68,
     "metadata": {},
     "output_type": "execute_result"
    }
   ],
   "source": [
    "train_data= pd.read_csv(\"C:/Users/likhi/train.tsv\", sep=\"\\t\")\n",
    "print(train_data.shape)\n",
    "train_data.head\n",
    "test_data = pd.read_csv(\"C:/Users/likhi/test.tsv\", sep=\"\\t\")\n",
    "print(test_data.shape)\n",
    "test_data.head"
   ]
  },
  {
   "cell_type": "code",
   "execution_count": 69,
   "metadata": {
    "colab": {},
    "colab_type": "code",
    "executionInfo": {
     "elapsed": 313,
     "status": "ok",
     "timestamp": 1595710010962,
     "user": {
      "displayName": "Jagadeesh Maroju",
      "photoUrl": "https://lh3.googleusercontent.com/a-/AOh14GjesCbl2sra6-ECz8-36_J-oul_b5yOksjf1uWoFQ=s64",
      "userId": "10251224050936812858"
     },
     "user_tz": 300
    },
    "id": "GBbnknhiukDX"
   },
   "outputs": [],
   "source": [
    "train_data = train_data.drop(columns=['PhraseId', 'SentenceId'])\n",
    "test_data = test_data.drop(columns=['PhraseId', 'SentenceId'])"
   ]
  },
  {
   "cell_type": "code",
   "execution_count": 70,
   "metadata": {
    "colab": {},
    "colab_type": "code",
    "executionInfo": {
     "elapsed": 729,
     "status": "ok",
     "timestamp": 1595710076312,
     "user": {
      "displayName": "Jagadeesh Maroju",
      "photoUrl": "https://lh3.googleusercontent.com/a-/AOh14GjesCbl2sra6-ECz8-36_J-oul_b5yOksjf1uWoFQ=s64",
      "userId": "10251224050936812858"
     },
     "user_tz": 300
    },
    "id": "NirTG6unuo1z"
   },
   "outputs": [],
   "source": [
    "label=train_data[['Sentiment']]\n",
    "train_data=train_data.drop(columns=['Sentiment'])\n",
    "train_data['Phrase'] = train_data['Phrase'].apply(lambda x: re.sub('[^a-zA-z0-9\\s]', '', x.lower()))\n",
    "test_data['Phrase'] = test_data['Phrase'].apply(lambda x: re.sub('[^a-zA-z0-9\\s]', '', x.lower()))"
   ]
  },
  {
   "cell_type": "code",
   "execution_count": 71,
   "metadata": {
    "colab": {},
    "colab_type": "code",
    "executionInfo": {
     "elapsed": 4338,
     "status": "ok",
     "timestamp": 1595710097381,
     "user": {
      "displayName": "Jagadeesh Maroju",
      "photoUrl": "https://lh3.googleusercontent.com/a-/AOh14GjesCbl2sra6-ECz8-36_J-oul_b5yOksjf1uWoFQ=s64",
      "userId": "10251224050936812858"
     },
     "user_tz": 300
    },
    "id": "c6C9Qkbuu5UO"
   },
   "outputs": [],
   "source": [
    "max_features =5000\n",
    "tokenizer = Tokenizer(num_words=max_features, split=' ')\n",
    "tokenizer.fit_on_texts(train_data['Phrase'].values)\n",
    "X_train = tokenizer.texts_to_sequences(train_data['Phrase'].values)\n",
    "X_train = pad_sequences(X_train)"
   ]
  },
  {
   "cell_type": "code",
   "execution_count": 72,
   "metadata": {
    "colab": {},
    "colab_type": "code",
    "executionInfo": {
     "elapsed": 1871,
     "status": "ok",
     "timestamp": 1595710109672,
     "user": {
      "displayName": "Jagadeesh Maroju",
      "photoUrl": "https://lh3.googleusercontent.com/a-/AOh14GjesCbl2sra6-ECz8-36_J-oul_b5yOksjf1uWoFQ=s64",
      "userId": "10251224050936812858"
     },
     "user_tz": 300
    },
    "id": "2aDsChYAu9c2"
   },
   "outputs": [],
   "source": [
    "max_features = 2000\n",
    "tokenizer = Tokenizer(num_words=max_features, split=' ')\n",
    "tokenizer.fit_on_texts(test_data['Phrase'].values)\n",
    "X_test = tokenizer.texts_to_sequences(test_data['Phrase'].values)\n",
    "X_test = pad_sequences(X_test)"
   ]
  },
  {
   "cell_type": "code",
   "execution_count": 73,
   "metadata": {
    "colab": {
     "base_uri": "https://localhost:8080/",
     "height": 104
    },
    "colab_type": "code",
    "executionInfo": {
     "elapsed": 270,
     "status": "ok",
     "timestamp": 1595710135182,
     "user": {
      "displayName": "Jagadeesh Maroju",
      "photoUrl": "https://lh3.googleusercontent.com/a-/AOh14GjesCbl2sra6-ECz8-36_J-oul_b5yOksjf1uWoFQ=s64",
      "userId": "10251224050936812858"
     },
     "user_tz": 300
    },
    "id": "uglz0MXAvBP-",
    "outputId": "d5d30bc1-0414-414f-8620-c5c314116694"
   },
   "outputs": [
    {
     "name": "stdout",
     "output_type": "stream",
     "text": [
      "(117045, 46) (117045, 5)\n",
      "(39015, 46) (39015, 5)\n"
     ]
    },
    {
     "name": "stderr",
     "output_type": "stream",
     "text": [
      "C:\\Users\\likhi\\anaconda3\\lib\\site-packages\\sklearn\\preprocessing\\_label.py:251: DataConversionWarning: A column-vector y was passed when a 1d array was expected. Please change the shape of y to (n_samples, ), for example using ravel().\n",
      "  y = column_or_1d(y, warn=True)\n"
     ]
    }
   ],
   "source": [
    "label_encoder = LabelEncoder()\n",
    "integer_encoded = label_encoder.fit_transform(label)\n",
    "Y_train = to_categorical(integer_encoded)\n",
    "X_tr, X_te, Y_tr, Y_te = train_test_split(X_train, Y_train, test_size=0.25, random_state=30)\n",
    "print(X_tr.shape,Y_tr.shape)\n",
    "print(X_te.shape,Y_te.shape)"
   ]
  },
  {
   "cell_type": "code",
   "execution_count": 26,
   "metadata": {
    "colab": {},
    "colab_type": "code",
    "executionInfo": {
     "elapsed": 257,
     "status": "ok",
     "timestamp": 1595710588018,
     "user": {
      "displayName": "Jagadeesh Maroju",
      "photoUrl": "https://lh3.googleusercontent.com/a-/AOh14GjesCbl2sra6-ECz8-36_J-oul_b5yOksjf1uWoFQ=s64",
      "userId": "10251224050936812858"
     },
     "user_tz": 300
    },
    "id": "u2UbB1IlvIqh"
   },
   "outputs": [],
   "source": [
    "num_classes = Y_train.shape[1]\n",
    "max_words= X_train.shape[1]\n",
    "model= Sequential()\n",
    "# model.add(Embedding(max_features,100,input_length=max_words))\n",
    "model.add(Embedding(5000, max_words))\n",
    "model.add(Dropout(0.2))\n",
    "model.add(Conv1D(64,kernel_size=3,padding='same',activation='relu',strides=1))\n",
    "model.add(GlobalMaxPooling1D())\n",
    "model.add(Dense(128,activation='relu'))\n",
    "model.add(Dropout(0.2))\n",
    "model.add(Dense(num_classes,activation='softmax'))\n",
    "model.compile(loss='categorical_crossentropy',optimizer='adam',metrics=['accuracy'])"
   ]
  },
  {
   "cell_type": "code",
   "execution_count": 27,
   "metadata": {
    "colab": {
     "base_uri": "https://localhost:8080/",
     "height": 255
    },
    "colab_type": "code",
    "executionInfo": {
     "elapsed": 77685,
     "status": "ok",
     "timestamp": 1595710668093,
     "user": {
      "displayName": "Jagadeesh Maroju",
      "photoUrl": "https://lh3.googleusercontent.com/a-/AOh14GjesCbl2sra6-ECz8-36_J-oul_b5yOksjf1uWoFQ=s64",
      "userId": "10251224050936812858"
     },
     "user_tz": 300
    },
    "id": "SRciY2CyvReg",
    "outputId": "fc7d4133-3ca9-407f-ca9c-33f4500705ae"
   },
   "outputs": [
    {
     "name": "stderr",
     "output_type": "stream",
     "text": [
      "/usr/local/lib/python3.6/dist-packages/tensorflow/python/framework/indexed_slices.py:434: UserWarning: Converting sparse IndexedSlices to a dense Tensor of unknown shape. This may consume a large amount of memory.\n",
      "  \"Converting sparse IndexedSlices to a dense Tensor of unknown shape. \"\n"
     ]
    },
    {
     "name": "stdout",
     "output_type": "stream",
     "text": [
      "Train on 117045 samples, validate on 39015 samples\n",
      "Epoch 1/5\n",
      " - 15s - loss: 1.2043 - accuracy: 0.5345 - val_loss: 1.0542 - val_accuracy: 0.5972\n",
      "Epoch 2/5\n",
      " - 15s - loss: 0.9514 - accuracy: 0.6260 - val_loss: 0.9267 - val_accuracy: 0.6294\n",
      "Epoch 3/5\n",
      " - 15s - loss: 0.8855 - accuracy: 0.6495 - val_loss: 0.9120 - val_accuracy: 0.6354\n",
      "Epoch 4/5\n",
      " - 15s - loss: 0.8509 - accuracy: 0.6612 - val_loss: 0.8983 - val_accuracy: 0.6402\n",
      "Epoch 5/5\n",
      " - 16s - loss: 0.8218 - accuracy: 0.6733 - val_loss: 0.8769 - val_accuracy: 0.6468\n"
     ]
    }
   ],
   "source": [
    "\n",
    "history=model.fit(X_tr, Y_tr, validation_data=(X_te, Y_te),epochs=5, batch_size=512, verbose=2)"
   ]
  },
  {
   "cell_type": "code",
   "execution_count": null,
   "metadata": {
    "colab": {},
    "colab_type": "code",
    "id": "K07_dPlXurMS"
   },
   "outputs": [],
   "source": [
    "\n"
   ]
  },
  {
   "cell_type": "code",
   "execution_count": 29,
   "metadata": {
    "colab": {
     "base_uri": "https://localhost:8080/",
     "height": 34
    },
    "colab_type": "code",
    "executionInfo": {
     "elapsed": 2399,
     "status": "ok",
     "timestamp": 1595711933538,
     "user": {
      "displayName": "Jagadeesh Maroju",
      "photoUrl": "https://lh3.googleusercontent.com/a-/AOh14GjesCbl2sra6-ECz8-36_J-oul_b5yOksjf1uWoFQ=s64",
      "userId": "10251224050936812858"
     },
     "user_tz": 300
    },
    "id": "N2FOxfIE1toI",
    "outputId": "c0f8b923-69f0-4d95-bfd3-948be97ed1c9"
   },
   "outputs": [
    {
     "name": "stdout",
     "output_type": "stream",
     "text": [
      "Accuracy: 64.68%\n"
     ]
    }
   ],
   "source": [
    "scores = model.evaluate(X_te, Y_te, verbose=0)\n",
    "print(\"Accuracy: %.2f%%\" % (scores[1]*100))"
   ]
  },
  {
   "cell_type": "code",
   "execution_count": 32,
   "metadata": {
    "colab": {
     "base_uri": "https://localhost:8080/",
     "height": 573
    },
    "colab_type": "code",
    "executionInfo": {
     "elapsed": 743,
     "status": "ok",
     "timestamp": 1595711972823,
     "user": {
      "displayName": "Jagadeesh Maroju",
      "photoUrl": "https://lh3.googleusercontent.com/a-/AOh14GjesCbl2sra6-ECz8-36_J-oul_b5yOksjf1uWoFQ=s64",
      "userId": "10251224050936812858"
     },
     "user_tz": 300
    },
    "id": "31_DHiSX1_34",
    "outputId": "b00dc2e8-ffd8-44b9-8bd3-a715fc15493f"
   },
   "outputs": [
    {
     "data": {
      "image/png": "[encoded data removed]",
      "text/plain": [
       "<Figure size 432x288 with 1 Axes>"
      ]
     },
     "metadata": {
      "needs_background": "light",
      "tags": []
     },
     "output_type": "display_data"
    },
    {
     "data": {
      "image/png": "[encoded data removed]",
      "text/plain": [
       "<Figure size 432x288 with 1 Axes>"
      ]
     },
     "metadata": {
      "needs_background": "light",
      "tags": []
     },
     "output_type": "display_data"
    }
   ],
   "source": [
    "#accuracy\n",
    "plt.plot(history.history['accuracy'])\n",
    "plt.plot(history.history['val_accuracy'])\n",
    "plt.title('model accuracy')\n",
    "plt.ylabel('accuracy')\n",
    "plt.xlabel('epoch')\n",
    "plt.legend(['train', 'test'], loc='upper left')\n",
    "plt.show()\n",
    "# loss\n",
    "plt.plot(history.history['loss'])\n",
    "plt.plot(history.history['val_loss'])\n",
    "plt.title('model loss')\n",
    "plt.ylabel('loss')\n",
    "plt.xlabel('epoch')\n",
    "plt.legend(['train', 'test'], loc='upper right')\n",
    "plt.show()"
   ]
  },
  {
   "cell_type": "code",
   "execution_count": 38,
   "metadata": {
    "colab": {},
    "colab_type": "code",
    "executionInfo": {
     "elapsed": 318,
     "status": "ok",
     "timestamp": 1595712288246,
     "user": {
      "displayName": "Jagadeesh Maroju",
      "photoUrl": "https://lh3.googleusercontent.com/a-/AOh14GjesCbl2sra6-ECz8-36_J-oul_b5yOksjf1uWoFQ=s64",
      "userId": "10251224050936812858"
     },
     "user_tz": 300
    },
    "id": "Zmq9N37A2Kxt"
   },
   "outputs": [],
   "source": [
    "from keras.optimizers import adam\n",
    "#in the above model evaluation, loss has been increased hence it is overfitting model, to overcome we will include learning rate\n",
    "s=adam(lr=0.001)\n",
    "model1= Sequential()\n",
    "model1.add(Embedding(5000,max_words))\n",
    "model1.add(Dropout(0.2))\n",
    "model1.add(Conv1D(64,kernel_size=3,padding='same',activation='relu',strides=1))\n",
    "model1.add(GlobalMaxPooling1D())\n",
    "model1.add(Dense(128,activation='relu'))\n",
    "model1.add(Dropout(0.2))\n",
    "model1.add(Dense(num_classes,activation='softmax'))\n",
    "model1.compile(loss='binary_crossentropy',optimizer=s,metrics=['accuracy'])\n"
   ]
  },
  {
   "cell_type": "code",
   "execution_count": 39,
   "metadata": {
    "colab": {
     "base_uri": "https://localhost:8080/",
     "height": 255
    },
    "colab_type": "code",
    "executionInfo": {
     "elapsed": 161017,
     "status": "ok",
     "timestamp": 1595712450997,
     "user": {
      "displayName": "Jagadeesh Maroju",
      "photoUrl": "https://lh3.googleusercontent.com/a-/AOh14GjesCbl2sra6-ECz8-36_J-oul_b5yOksjf1uWoFQ=s64",
      "userId": "10251224050936812858"
     },
     "user_tz": 300
    },
    "id": "GxWYFVWi2Yml",
    "outputId": "e2567274-aafc-448f-9dad-f5dfc9a5fa99"
   },
   "outputs": [
    {
     "name": "stderr",
     "output_type": "stream",
     "text": [
      "/usr/local/lib/python3.6/dist-packages/tensorflow/python/framework/indexed_slices.py:434: UserWarning: Converting sparse IndexedSlices to a dense Tensor of unknown shape. This may consume a large amount of memory.\n",
      "  \"Converting sparse IndexedSlices to a dense Tensor of unknown shape. \"\n"
     ]
    },
    {
     "name": "stdout",
     "output_type": "stream",
     "text": [
      "Train on 117045 samples, validate on 39015 samples\n",
      "Epoch 1/5\n",
      "117045/117045 [==============================] - 32s 273us/step - loss: 0.3496 - accuracy: 0.8466 - val_loss: 0.3227 - val_accuracy: 0.8548\n",
      "Epoch 2/5\n",
      "117045/117045 [==============================] - 32s 270us/step - loss: 0.3067 - accuracy: 0.8633 - val_loss: 0.3084 - val_accuracy: 0.8611\n",
      "Epoch 3/5\n",
      "117045/117045 [==============================] - 32s 272us/step - loss: 0.2915 - accuracy: 0.8704 - val_loss: 0.3050 - val_accuracy: 0.8623\n",
      "Epoch 4/5\n",
      "117045/117045 [==============================] - 32s 270us/step - loss: 0.2810 - accuracy: 0.8758 - val_loss: 0.3050 - val_accuracy: 0.8630\n",
      "Epoch 5/5\n",
      "117045/117045 [==============================] - 33s 280us/step - loss: 0.2738 - accuracy: 0.8787 - val_loss: 0.3043 - val_accuracy: 0.8637\n"
     ]
    }
   ],
   "source": [
    "history1=model1.fit(X_tr, Y_tr, validation_data=(X_te, Y_te),epochs=5, batch_size=51, verbose=1)"
   ]
  }
 ],
 "metadata": {
  "colab": {
   "authorship_tag": "ABX9TyMknROkKsx8fid0KNlA4QKW",
   "collapsed_sections": [],
   "name": "Project_Exam_2_1",
   "provenance": []
  },
  "kernelspec": {
   "display_name": "Python 3",
   "language": "python",
   "name": "python3"
  },
  "language_info": {
   "codemirror_mode": {
    "name": "ipython",
    "version": 3
   },
   "file_extension": ".py",
   "mimetype": "text/x-python",
   "name": "python",
   "nbconvert_exporter": "python",
   "pygments_lexer": "ipython3",
   "version": "3.7.6"
  }
 },
 "nbformat": 4,
 "nbformat_minor": 1
}
